{
  "nbformat": 4,
  "nbformat_minor": 0,
  "metadata": {
    "colab": {
      "provenance": []
    },
    "kernelspec": {
      "name": "python3",
      "display_name": "Python 3"
    },
    "language_info": {
      "name": "python"
    }
  },
  "cells": [
    {
      "cell_type": "markdown",
      "source": [
        "**VIKTOR WAHYU**"
      ],
      "metadata": {
        "id": "RXNYqvl8DNrw"
      }
    },
    {
      "cell_type": "code",
      "source": [
        "# Import Library\n",
        "import pandas as pd\n",
        "from sklearn.model_selection import train_test_split\n",
        "from sklearn.naive_bayes import GaussianNB\n",
        "from sklearn.neighbors import KNeighborsClassifier\n",
        "from sklearn.tree import DecisionTreeClassifier\n",
        "from sklearn.metrics import accuracy_score, confusion_matrix\n",
        "\n",
        "data = pd.read_csv('dataset.csv')\n",
        "\n",
        "data.info()"
      ],
      "metadata": {
        "colab": {
          "base_uri": "https://localhost:8080/"
        },
        "id": "8zOHhHooCi7u",
        "outputId": "0c12623b-2399-470f-89bb-f358652e3dd4"
      },
      "execution_count": 7,
      "outputs": [
        {
          "output_type": "stream",
          "name": "stdout",
          "text": [
            "<class 'pandas.core.frame.DataFrame'>\n",
            "RangeIndex: 561 entries, 0 to 560\n",
            "Data columns (total 18 columns):\n",
            " #   Column                                  Non-Null Count  Dtype  \n",
            "---  ------                                  --------------  -----  \n",
            " 0   NO                                      561 non-null    int64  \n",
            " 1   NAMA                                    561 non-null    object \n",
            " 2   USIA                                    561 non-null    float64\n",
            " 3   PARITAS                                 561 non-null    int64  \n",
            " 4   JARAK KELAHIRAN                         561 non-null    int64  \n",
            " 5   PE/Non PE                               561 non-null    int64  \n",
            " 6   RIW HIPERTENSI_Tidak                    561 non-null    float64\n",
            " 7   RIW HIPERTENSI_Ya                       561 non-null    float64\n",
            " 8   RIW PE_Ada                              561 non-null    float64\n",
            " 9   RIW PE_Tidak                            561 non-null    float64\n",
            " 10  OBESITAS_Tidak                          561 non-null    float64\n",
            " 11  OBESITAS_Ya                             561 non-null    float64\n",
            " 12  RIW DM_Tidak                            561 non-null    float64\n",
            " 13  RIW DM_Ya                               561 non-null    float64\n",
            " 14  RIW HIPERTENSI/PE DALAM KELUARGA_Ada    561 non-null    float64\n",
            " 15  RIW HIPERTENSI/PE DALAM KELUARGA_Tidak  561 non-null    float64\n",
            " 16  SOSEK RENDAH_<UMR                       561 non-null    float64\n",
            " 17  SOSEK RENDAH_>UMR                       561 non-null    float64\n",
            "dtypes: float64(13), int64(4), object(1)\n",
            "memory usage: 79.0+ KB\n"
          ]
        }
      ]
    },
    {
      "cell_type": "code",
      "source": [
        "#Persiapan Modelling\n",
        "\n",
        "data = data.drop(['NAMA', 'NO'], axis=1) #dihapus karena tidak diperlukan untuk modeling\n",
        "\n",
        "# Pisahkan variabel target (Preeklamsi)\n",
        "X = data.drop('PE/Non PE', axis=1)\n",
        "y = data['PE/Non PE']\n",
        "\n",
        "# Train-Test Split 75% 25%\n",
        "X_train, X_test, y_train, y_test = train_test_split(X, y, test_size=0.25, random_state=42)"
      ],
      "metadata": {
        "id": "bmxmXDCqCoWi"
      },
      "execution_count": 8,
      "outputs": []
    },
    {
      "cell_type": "code",
      "source": [
        "# Membangun Model Naive Bayes\n",
        "model_nb = GaussianNB()\n",
        "model_nb.fit(X_train, y_train)\n",
        "\n",
        "# Melakukan Prediksi\n",
        "y_pred_nb = model_nb.predict(X_test)\n",
        "\n",
        "# Akurasi\n",
        "accuracy_nb = accuracy_score(y_test, y_pred_nb)\n",
        "print(\"Akurasi Naive Bayes:\", accuracy_nb)\n",
        "percent_accuracy = \"{:.2f}%\".format(accuracy_nb * 100)\n",
        "print(f\"Akurasi: {percent_accuracy}\")\n",
        "\n",
        "# Confusion Matrix\n",
        "cm_nb = confusion_matrix(y_test, y_pred_nb)\n",
        "print(\"\\nConfusion Matrix Naive Bayes:\\n\", cm_nb)"
      ],
      "metadata": {
        "colab": {
          "base_uri": "https://localhost:8080/"
        },
        "id": "BZ77wfMECroT",
        "outputId": "971abf20-68ac-459a-bcdd-57d0e7e75ba8"
      },
      "execution_count": 9,
      "outputs": [
        {
          "output_type": "stream",
          "name": "stdout",
          "text": [
            "Akurasi Naive Bayes: 0.07801418439716312\n",
            "Akurasi: 7.80%\n",
            "\n",
            "Confusion Matrix Naive Bayes:\n",
            " [[  1 127]\n",
            " [  3  10]]\n"
          ]
        }
      ]
    },
    {
      "cell_type": "code",
      "source": [
        "# Membangun Model KNN\n",
        "model_knn = KNeighborsClassifier(n_neighbors=5)\n",
        "model_knn.fit(X_train, y_train)\n",
        "\n",
        "y_pred_knn = model_knn.predict(X_test)\n",
        "\n",
        "# Akurasi\n",
        "accuracy_knn = accuracy_score(y_test, y_pred_knn)\n",
        "print(\"Akurasi KNN:\", accuracy_knn)\n",
        "percent_accuracy = \"{:.2f}%\".format(accuracy_knn * 100)\n",
        "print(f\"Akurasi: {percent_accuracy}\")\n",
        "\n",
        "# Confusion Matrix\n",
        "cm_knn = confusion_matrix(y_test, y_pred_knn)\n",
        "print(\"\\nConfusion Matrix KNN:\\n\", cm_knn)"
      ],
      "metadata": {
        "colab": {
          "base_uri": "https://localhost:8080/"
        },
        "id": "F9Tb9n_SCuO7",
        "outputId": "06196c82-2172-4dd1-9ca0-be9978e2d7b0"
      },
      "execution_count": 10,
      "outputs": [
        {
          "output_type": "stream",
          "name": "stdout",
          "text": [
            "Akurasi KNN: 0.9148936170212766\n",
            "Akurasi: 91.49%\n",
            "\n",
            "Confusion Matrix KNN:\n",
            " [[127   1]\n",
            " [ 11   2]]\n"
          ]
        }
      ]
    },
    {
      "cell_type": "code",
      "source": [
        "# Membangun Model Decision Tree\n",
        "model_dt = DecisionTreeClassifier()\n",
        "model_dt.fit(X_train, y_train)\n",
        "\n",
        "y_pred_dt = model_dt.predict(X_test)\n",
        "\n",
        "# Akurasi\n",
        "accuracy_dt = accuracy_score(y_test, y_pred_dt)\n",
        "print(\"Akurasi Decision Tree:\", accuracy_dt)\n",
        "percent_accuracy = \"{:.2f}%\".format(accuracy_knn * 100)\n",
        "print(f\"Akurasi: {percent_accuracy}\")\n",
        "\n",
        "# Confusion Matrix\n",
        "cm_dt = confusion_matrix(y_test, y_pred_dt)\n",
        "print(\"\\nConfusion Matrix Decision Tree:\\n\", cm_dt)"
      ],
      "metadata": {
        "colab": {
          "base_uri": "https://localhost:8080/"
        },
        "id": "RAhfxWGhCxY6",
        "outputId": "be50a9de-88c5-4685-d387-fa7ff7f9f3ec"
      },
      "execution_count": 11,
      "outputs": [
        {
          "output_type": "stream",
          "name": "stdout",
          "text": [
            "Akurasi Decision Tree: 0.9148936170212766\n",
            "Akurasi: 91.49%\n",
            "\n",
            "Confusion Matrix Decision Tree:\n",
            " [[122   6]\n",
            " [  6   7]]\n"
          ]
        }
      ]
    },
    {
      "cell_type": "code",
      "source": [
        "from sklearn.feature_selection import SelectKBest, chi2\n",
        "\n",
        "# Menerapkan SelectKBest\n",
        "k_best = 5\n",
        "bestfeatures = SelectKBest(score_func=chi2, k=k_best)\n",
        "fit = bestfeatures.fit(X, y)\n",
        "\n",
        "# Membuat DataFrame untuk score dan nama kolom\n",
        "dfscores = pd.DataFrame(fit.scores_)\n",
        "dfcolumns = pd.DataFrame(X.columns)\n",
        "\n",
        "# Menggabungkan DataFrame\n",
        "featureScores = pd.concat([dfcolumns, dfscores], axis=1)\n",
        "featureScores.columns = ['Fitur', 'Skor']\n",
        "\n",
        "# Menampilkan 5 fitur terbaik\n",
        "print(featureScores.nlargest(k_best, 'Skor'))"
      ],
      "metadata": {
        "colab": {
          "base_uri": "https://localhost:8080/"
        },
        "id": "hA9kpOV4Cz92",
        "outputId": "02d8e14c-23a7-4aa3-cf70-5b1d4f06cc5d"
      },
      "execution_count": 12,
      "outputs": [
        {
          "output_type": "stream",
          "name": "stdout",
          "text": [
            "                                   Fitur        Skor\n",
            "5                             RIW PE_Ada  193.911607\n",
            "4                      RIW HIPERTENSI_Ya  124.314050\n",
            "11  RIW HIPERTENSI/PE DALAM KELUARGA_Ada   36.232411\n",
            "8                            OBESITAS_Ya   20.492345\n",
            "3                   RIW HIPERTENSI_Tidak   12.969773\n"
          ]
        }
      ]
    },
    {
      "cell_type": "code",
      "source": [
        "# Buat DataFrame baru dengan fitur yang dipilih\n",
        "X_selected = X[featureScores.nlargest(k_best, 'Skor')['Fitur']]\n",
        "\n",
        "# Train-Test Split dengan data baru (split data tetap sama)\n",
        "X_train, X_test, y_train, y_test = train_test_split(\n",
        "    X_selected, y, test_size=0.25, random_state=42\n",
        ")"
      ],
      "metadata": {
        "id": "bTl8PHPWC3xk"
      },
      "execution_count": 13,
      "outputs": []
    },
    {
      "cell_type": "code",
      "source": [
        "#Naive Bayes setelah feature selection\n",
        "model_nb = GaussianNB()\n",
        "model_nb.fit(X_train, y_train)\n",
        "y_pred_nb = model_nb.predict(X_test)\n",
        "\n",
        "accuracy_nb = accuracy_score(y_test, y_pred_nb)\n",
        "cm_nb = confusion_matrix(y_test, y_pred_nb)\n",
        "\n",
        "print(\"\\nNaive Bayes - Akurasi:\", accuracy_nb)\n",
        "percent_accuracy = \"{:.2f}%\".format(accuracy_nb * 100)\n",
        "print(f\"Akurasi: {percent_accuracy}\")\n",
        "\n",
        "print(\"Confusion Matrix:\\n\", cm_nb)"
      ],
      "metadata": {
        "colab": {
          "base_uri": "https://localhost:8080/"
        },
        "id": "7YQg5wbCC5uU",
        "outputId": "94ab5e4f-93dc-4f60-e13f-0467af821eea"
      },
      "execution_count": 14,
      "outputs": [
        {
          "output_type": "stream",
          "name": "stdout",
          "text": [
            "\n",
            "Naive Bayes - Akurasi: 0.8936170212765957\n",
            "Akurasi: 89.36%\n",
            "Confusion Matrix:\n",
            " [[116  12]\n",
            " [  3  10]]\n"
          ]
        }
      ]
    },
    {
      "cell_type": "code",
      "source": [
        "# KNN setelah feature selection\n",
        "model_knn = KNeighborsClassifier(n_neighbors=5)\n",
        "model_knn.fit(X_train, y_train)\n",
        "y_pred_knn = model_knn.predict(X_test)\n",
        "\n",
        "accuracy_knn = accuracy_score(y_test, y_pred_knn)\n",
        "cm_knn = confusion_matrix(y_test, y_pred_knn)\n",
        "\n",
        "print(\"\\nKNN - Akurasi:\", accuracy_knn)\n",
        "percent_accuracy = \"{:.2f}%\".format(accuracy_knn * 100)\n",
        "print(f\"Akurasi: {percent_accuracy}\")\n",
        "\n",
        "print(\"Confusion Matrix:\\n\", cm_knn)"
      ],
      "metadata": {
        "colab": {
          "base_uri": "https://localhost:8080/"
        },
        "id": "ukea2iSuC8Sh",
        "outputId": "bb9cc214-014b-43fd-8b7a-0bd866ca3385"
      },
      "execution_count": 15,
      "outputs": [
        {
          "output_type": "stream",
          "name": "stdout",
          "text": [
            "\n",
            "KNN - Akurasi: 0.8936170212765957\n",
            "Akurasi: 89.36%\n",
            "Confusion Matrix:\n",
            " [[118  10]\n",
            " [  5   8]]\n"
          ]
        }
      ]
    },
    {
      "cell_type": "code",
      "source": [
        "#Decision Tree setelah feature selection\n",
        "model_dt = DecisionTreeClassifier()\n",
        "model_dt.fit(X_train, y_train)\n",
        "y_pred_dt = model_dt.predict(X_test)\n",
        "\n",
        "accuracy_dt = accuracy_score(y_test, y_pred_dt)\n",
        "cm_dt = confusion_matrix(y_test, y_pred_dt)\n",
        "\n",
        "print(\"\\nDecision Tree - Akurasi:\", accuracy_dt)\n",
        "percent_accuracy = \"{:.2f}%\".format(accuracy_dt * 100)\n",
        "print(f\"Akurasi: {percent_accuracy}\")\n",
        "\n",
        "\n",
        "print(\"Confusion Matrix:\\n\", cm_dt)"
      ],
      "metadata": {
        "colab": {
          "base_uri": "https://localhost:8080/"
        },
        "id": "x4fhzOI2C-3R",
        "outputId": "6b198ec0-3e71-4ba4-90d6-5ca459c68762"
      },
      "execution_count": 16,
      "outputs": [
        {
          "output_type": "stream",
          "name": "stdout",
          "text": [
            "\n",
            "Decision Tree - Akurasi: 0.9290780141843972\n",
            "Akurasi: 92.91%\n",
            "Confusion Matrix:\n",
            " [[125   3]\n",
            " [  7   6]]\n"
          ]
        }
      ]
    },
    {
      "cell_type": "markdown",
      "source": [],
      "metadata": {
        "id": "aCYxlcBzDLuj"
      }
    }
  ]
}